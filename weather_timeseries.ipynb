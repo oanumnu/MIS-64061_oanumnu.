{
  "nbformat": 4,
  "nbformat_minor": 0,
  "metadata": {
    "colab": {
      "name": "weather_timeseries",
      "provenance": [],
      "collapsed_sections": [],
      "authorship_tag": "ABX9TyNh2HGuXvDNKUdb6a5nz+pV",
      "include_colab_link": true
    },
    "kernelspec": {
      "display_name": "Python 3",
      "name": "python3"
    },
    "language_info": {
      "name": "python"
    }
  },
  "cells": [
    {
      "cell_type": "markdown",
      "metadata": {
        "id": "view-in-github",
        "colab_type": "text"
      },
      "source": [
        "<a href=\"https://colab.research.google.com/github/oanumnu/MIS-64061_oanumnu./blob/main/weather_timeseries.ipynb\" target=\"_parent\"><img src=\"https://colab.research.google.com/assets/colab-badge.svg\" alt=\"Open In Colab\"/></a>"
      ]
    },
    {
      "cell_type": "code",
      "metadata": {
        "colab": {
          "base_uri": "https://localhost:8080/",
          "height": 35
        },
        "id": "G-jAYnktWp2C",
        "outputId": "8babc880-cb09-4e59-8dd9-af9dec7986ba"
      },
      "source": [
        "import keras\n",
        "keras.__version__"
      ],
      "execution_count": 20,
      "outputs": [
        {
          "output_type": "execute_result",
          "data": {
            "application/vnd.google.colaboratory.intrinsic+json": {
              "type": "string"
            },
            "text/plain": [
              "'2.4.3'"
            ]
          },
          "metadata": {
            "tags": []
          },
          "execution_count": 20
        }
      ]
    },
    {
      "cell_type": "code",
      "metadata": {
        "id": "Ltj9WK--0TEu"
      },
      "source": [
        ""
      ],
      "execution_count": null,
      "outputs": []
    },
    {
      "cell_type": "code",
      "metadata": {
        "colab": {
          "base_uri": "https://localhost:8080/"
        },
        "id": "hveUVvKOs5Of",
        "outputId": "afee882c-42e9-4c48-82a3-0700b5f00c95"
      },
      "source": [
        "from google.colab import drive\n",
        "drive.mount('/content/drive')"
      ],
      "execution_count": 21,
      "outputs": [
        {
          "output_type": "stream",
          "text": [
            "Drive already mounted at /content/drive; to attempt to forcibly remount, call drive.mount(\"/content/drive\", force_remount=True).\n"
          ],
          "name": "stdout"
        }
      ]
    },
    {
      "cell_type": "code",
      "metadata": {
        "id": "xToHHmEVtExG"
      },
      "source": [
        "import os, shutil"
      ],
      "execution_count": 22,
      "outputs": []
    },
    {
      "cell_type": "code",
      "metadata": {
        "colab": {
          "base_uri": "https://localhost:8080/"
        },
        "id": "xN4ayL14tGx-",
        "outputId": "deb215ba-5521-4ab5-903d-fc35b3e5ac1e"
      },
      "source": [
        "data_dir = '/content/drive/MyDrive/climate'\n",
        "!ls '/content/drive/MyDrive/climate'"
      ],
      "execution_count": 23,
      "outputs": [
        {
          "output_type": "stream",
          "text": [
            "jena_climate_2009_2016.csv\n"
          ],
          "name": "stdout"
        }
      ]
    },
    {
      "cell_type": "code",
      "metadata": {
        "colab": {
          "base_uri": "https://localhost:8080/"
        },
        "id": "y1kT5JCoWtbd",
        "outputId": "420bb78c-c1d6-44ef-d3b9-a5aa6d244ba6"
      },
      "source": [
        "import os\n",
        "\n",
        "\n",
        "fname = os.path.join(data_dir, 'jena_climate_2009_2016.csv')\n",
        "\n",
        "f = open(fname)\n",
        "data = f.read()\n",
        "f.close()\n",
        "\n",
        "lines = data.split('\\n')\n",
        "header = lines[0].split(',')\n",
        "lines = lines[1:]\n",
        "\n",
        "print(header)\n",
        "print(len(lines))"
      ],
      "execution_count": 24,
      "outputs": [
        {
          "output_type": "stream",
          "text": [
            "['\"Date Time\"', '\"p (mbar)\"', '\"T (degC)\"', '\"Tpot (K)\"', '\"Tdew (degC)\"', '\"rh (%)\"', '\"VPmax (mbar)\"', '\"VPact (mbar)\"', '\"VPdef (mbar)\"', '\"sh (g/kg)\"', '\"H2OC (mmol/mol)\"', '\"rho (g/m**3)\"', '\"wv (m/s)\"', '\"max. wv (m/s)\"', '\"wd (deg)\"']\n",
            "420451\n"
          ],
          "name": "stdout"
        }
      ]
    },
    {
      "cell_type": "markdown",
      "metadata": {
        "id": "iZ2F1aNR2dWA"
      },
      "source": [
        "convert the 420,551 lines of data into a Numpy array:[link text](https://)"
      ]
    },
    {
      "cell_type": "code",
      "metadata": {
        "id": "3USiigx1yNCc"
      },
      "source": [
        "import numpy as np\n",
        "\n",
        "float_data = np.zeros((len(lines), len(header) - 1))\n",
        "for i, line in enumerate(lines):\n",
        "    values = [float(x) for x in line.split(',')[1:]]\n",
        "    float_data[i, :] = values"
      ],
      "execution_count": 25,
      "outputs": []
    },
    {
      "cell_type": "markdown",
      "metadata": {
        "id": "RzVGw4PQ2tXn"
      },
      "source": [
        "Preparing the data "
      ]
    },
    {
      "cell_type": "markdown",
      "metadata": {
        "id": "RMRwvGQi276v"
      },
      "source": [
        "Preprocess the data "
      ]
    },
    {
      "cell_type": "code",
      "metadata": {
        "id": "JvwZIjKE24b2"
      },
      "source": [
        "mean = float_data[:200000].mean(axis=0)\n",
        "float_data -= mean\n",
        "std = float_data[:200000].std(axis=0)\n",
        "float_data /= std"
      ],
      "execution_count": 26,
      "outputs": []
    },
    {
      "cell_type": "markdown",
      "metadata": {
        "id": "AiPeZD_K3IVG"
      },
      "source": [
        "Data Generation"
      ]
    },
    {
      "cell_type": "code",
      "metadata": {
        "id": "IRTztZqJ3K14"
      },
      "source": [
        "def generator(data, lookback, delay, min_index, max_index,\n",
        "              shuffle=False, batch_size=128, step=6):\n",
        "    if max_index is None:\n",
        "        max_index = len(data) - delay - 1\n",
        "    i = min_index + lookback\n",
        "    while 1:\n",
        "        if shuffle:\n",
        "            rows = np.random.randint(\n",
        "                min_index + lookback, max_index, size=batch_size)\n",
        "        else:\n",
        "            if i + batch_size >= max_index:\n",
        "                i = min_index + lookback\n",
        "            rows = np.arange(i, min(i + batch_size, max_index))\n",
        "            i += len(rows)\n",
        "\n",
        "        samples = np.zeros((len(rows),\n",
        "                           lookback // step,\n",
        "                           data.shape[-1]))\n",
        "        targets = np.zeros((len(rows),))\n",
        "        for j, row in enumerate(rows):\n",
        "            indices = range(rows[j] - lookback, rows[j], step)\n",
        "            samples[j] = data[indices]\n",
        "            targets[j] = data[rows[j] + delay][1]\n",
        "        yield samples, targets"
      ],
      "execution_count": 27,
      "outputs": []
    },
    {
      "cell_type": "code",
      "metadata": {
        "id": "7eSMIjGZ3Xm3"
      },
      "source": [
        "lookback = 1440\n",
        "step = 6\n",
        "delay = 144\n",
        "batch_size = 128\n",
        "\n",
        "train_gen = generator(float_data,\n",
        "                      lookback=lookback,\n",
        "                      delay=delay,\n",
        "                      min_index=0,\n",
        "                      max_index=200000,\n",
        "                      shuffle=True,\n",
        "                      step=step, \n",
        "                      batch_size=batch_size)\n",
        "val_gen = generator(float_data,\n",
        "                    lookback=lookback,\n",
        "                    delay=delay,\n",
        "                    min_index=200001,\n",
        "                    max_index=300000,\n",
        "                    step=step,\n",
        "                    batch_size=batch_size)\n",
        "test_gen = generator(float_data,\n",
        "                     lookback=lookback,\n",
        "                     delay=delay,\n",
        "                     min_index=300001,\n",
        "                     max_index=None,\n",
        "                     step=step,\n",
        "                     batch_size=batch_size)\n",
        "\n",
        "# This is how many steps to draw from `val_gen`\n",
        "# in order to see the whole validation set:\n",
        "val_steps = (300000 - 200001 - lookback) // batch_size\n",
        "\n",
        "# This is how many steps to draw from `test_gen`\n",
        "# in order to see the whole test set:\n",
        "test_steps = (len(float_data) - 300001 - lookback) // batch_size"
      ],
      "execution_count": 28,
      "outputs": []
    },
    {
      "cell_type": "markdown",
      "metadata": {
        "id": "xPMi3kiB3aW3"
      },
      "source": [
        "A basic machine learning approach"
      ]
    },
    {
      "cell_type": "code",
      "metadata": {
        "colab": {
          "base_uri": "https://localhost:8080/"
        },
        "id": "BeOYq5AR5qRR",
        "outputId": "0aa6854d-9eb0-4a0b-f780-24573657fdce"
      },
      "source": [
        "from keras.models import Sequential\n",
        "from keras import layers\n",
        "from keras.optimizers import RMSprop\n",
        "\n",
        "model = Sequential()\n",
        "model.add(layers.Flatten(input_shape=(lookback // step, float_data.shape[-1])))\n",
        "model.add(layers.Dense(32, activation='relu'))\n",
        "model.add(layers.Dense(1))\n",
        "\n",
        "model.compile(optimizer=RMSprop(), loss='mae')\n",
        "history = model.fit_generator(train_gen,\n",
        "                              steps_per_epoch=500,\n",
        "                              epochs=20,\n",
        "                              validation_data=val_gen,\n",
        "                              validation_steps=val_steps)"
      ],
      "execution_count": null,
      "outputs": [
        {
          "output_type": "stream",
          "text": [
            "/usr/local/lib/python3.7/dist-packages/tensorflow/python/keras/engine/training.py:1844: UserWarning: `Model.fit_generator` is deprecated and will be removed in a future version. Please use `Model.fit`, which supports generators.\n",
            "  warnings.warn('`Model.fit_generator` is deprecated and '\n"
          ],
          "name": "stderr"
        },
        {
          "output_type": "stream",
          "text": [
            "Epoch 1/20\n",
            "500/500 [==============================] - 16s 30ms/step - loss: 1.7288 - val_loss: 0.4200\n",
            "Epoch 2/20\n",
            "500/500 [==============================] - 15s 30ms/step - loss: 0.4463 - val_loss: 0.3220\n",
            "Epoch 3/20\n",
            "500/500 [==============================] - 15s 30ms/step - loss: 0.2988 - val_loss: 0.2977\n",
            "Epoch 4/20\n",
            "500/500 [==============================] - 15s 31ms/step - loss: 0.2711 - val_loss: 0.3008\n",
            "Epoch 5/20\n",
            "500/500 [==============================] - 15s 31ms/step - loss: 0.2578 - val_loss: 0.3243\n",
            "Epoch 6/20\n",
            "500/500 [==============================] - 15s 30ms/step - loss: 0.2466 - val_loss: 0.3695\n",
            "Epoch 7/20\n",
            "500/500 [==============================] - 15s 31ms/step - loss: 0.2402 - val_loss: 0.3231\n",
            "Epoch 8/20\n",
            "500/500 [==============================] - 16s 32ms/step - loss: 0.2356 - val_loss: 0.3096\n",
            "Epoch 9/20\n",
            "500/500 [==============================] - 15s 30ms/step - loss: 0.2332 - val_loss: 0.3177\n",
            "Epoch 10/20\n",
            "500/500 [==============================] - 15s 31ms/step - loss: 0.2280 - val_loss: 0.3160\n",
            "Epoch 11/20\n",
            "500/500 [==============================] - 15s 31ms/step - loss: 0.2218 - val_loss: 0.3420\n",
            "Epoch 12/20\n",
            "500/500 [==============================] - 15s 31ms/step - loss: 0.2196 - val_loss: 0.3218\n",
            "Epoch 13/20\n",
            "500/500 [==============================] - 15s 30ms/step - loss: 0.2199 - val_loss: 0.3197\n",
            "Epoch 14/20\n",
            "500/500 [==============================] - 15s 30ms/step - loss: 0.2127 - val_loss: 0.3247\n",
            "Epoch 15/20\n",
            "500/500 [==============================] - 15s 30ms/step - loss: 0.2108 - val_loss: 0.3529\n",
            "Epoch 16/20\n",
            "500/500 [==============================] - 15s 30ms/step - loss: 0.2091 - val_loss: 0.3186\n",
            "Epoch 17/20\n",
            "500/500 [==============================] - 15s 30ms/step - loss: 0.2063 - val_loss: 0.3290\n",
            "Epoch 18/20\n",
            "500/500 [==============================] - 15s 30ms/step - loss: 0.2036 - val_loss: 0.3221\n",
            "Epoch 19/20\n",
            "500/500 [==============================] - 15s 30ms/step - loss: 0.2013 - val_loss: 0.3302\n",
            "Epoch 20/20\n",
            "500/500 [==============================] - 15s 31ms/step - loss: 0.2013 - val_loss: 0.3494\n"
          ],
          "name": "stdout"
        }
      ]
    },
    {
      "cell_type": "code",
      "metadata": {
        "colab": {
          "base_uri": "https://localhost:8080/",
          "height": 281
        },
        "id": "pp0YLq4B7fP0",
        "outputId": "6c445ce8-9880-42ca-b1d0-ceda6f7c0dec"
      },
      "source": [
        "import matplotlib.pyplot as plt\n",
        "\n",
        "loss = history.history['loss']\n",
        "val_loss = history.history['val_loss']\n",
        "\n",
        "epochs = range(len(loss))\n",
        "\n",
        "plt.figure()\n",
        "\n",
        "plt.plot(epochs, loss, 'bo', label='Training loss')\n",
        "plt.plot(epochs, val_loss, 'b', label='Validation loss')\n",
        "plt.title('Training and validation loss')\n",
        "plt.legend()\n",
        "\n",
        "plt.show()"
      ],
      "execution_count": null,
      "outputs": [
        {
          "output_type": "display_data",
          "data": {
            "image/png": "[encoded data removed]",
            "text/plain": [
              "<Figure size 432x288 with 1 Axes>"
            ]
          },
          "metadata": {
            "tags": []
          }
        }
      ]
    },
    {
      "cell_type": "code",
      "metadata": {
        "id": "LDCQIuht9Iom"
      },
      "source": [
        "Using RNN"
      ],
      "execution_count": null,
      "outputs": []
    },
    {
      "cell_type": "code",
      "metadata": {
        "colab": {
          "base_uri": "https://localhost:8080/"
        },
        "id": "tFIv0zIl9vqr",
        "outputId": "e03f840f-3f51-43fb-cb10-aa7a1e433c7b"
      },
      "source": [
        "from keras.models import Sequential\n",
        "from keras import layers\n",
        "from keras.optimizers import RMSprop\n",
        "\n",
        "model = Sequential()\n",
        "model.add(layers.GRU(32, input_shape=(None, float_data.shape[-1])))\n",
        "model.add(layers.Dense(1))\n",
        "\n",
        "model.compile(optimizer=RMSprop(), loss='mae')\n",
        "history = model.fit_generator(train_gen,\n",
        "                              steps_per_epoch=500,\n",
        "                              epochs=10,\n",
        "                              validation_data=val_gen,\n",
        "                              validation_steps=val_steps)"
      ],
      "execution_count": 32,
      "outputs": [
        {
          "output_type": "stream",
          "text": [
            "/usr/local/lib/python3.7/dist-packages/tensorflow/python/keras/engine/training.py:1844: UserWarning: `Model.fit_generator` is deprecated and will be removed in a future version. Please use `Model.fit`, which supports generators.\n",
            "  warnings.warn('`Model.fit_generator` is deprecated and '\n"
          ],
          "name": "stderr"
        },
        {
          "output_type": "stream",
          "text": [
            "Epoch 1/10\n",
            "500/500 [==============================] - 91s 179ms/step - loss: 0.3315 - val_loss: 0.2724\n",
            "Epoch 2/10\n",
            "500/500 [==============================] - 92s 184ms/step - loss: 0.2865 - val_loss: 0.2704\n",
            "Epoch 3/10\n",
            "500/500 [==============================] - 94s 188ms/step - loss: 0.2782 - val_loss: 0.2651\n",
            "Epoch 4/10\n",
            "500/500 [==============================] - 89s 178ms/step - loss: 0.2738 - val_loss: 0.2657\n",
            "Epoch 5/10\n",
            "500/500 [==============================] - 92s 183ms/step - loss: 0.2677 - val_loss: 0.2818\n",
            "Epoch 6/10\n",
            "500/500 [==============================] - 91s 182ms/step - loss: 0.2640 - val_loss: 0.2634\n",
            "Epoch 7/10\n",
            "500/500 [==============================] - 91s 182ms/step - loss: 0.2583 - val_loss: 0.2655\n",
            "Epoch 8/10\n",
            "500/500 [==============================] - 90s 180ms/step - loss: 0.2513 - val_loss: 0.2718\n",
            "Epoch 9/10\n",
            "500/500 [==============================] - 91s 182ms/step - loss: 0.2485 - val_loss: 0.2723\n",
            "Epoch 10/10\n",
            "500/500 [==============================] - 92s 185ms/step - loss: 0.2428 - val_loss: 0.2723\n"
          ],
          "name": "stdout"
        }
      ]
    },
    {
      "cell_type": "markdown",
      "metadata": {
        "id": "u_XKnLGbCPaA"
      },
      "source": [
        "Let look at our results:"
      ]
    },
    {
      "cell_type": "code",
      "metadata": {
        "colab": {
          "base_uri": "https://localhost:8080/",
          "height": 281
        },
        "id": "IdDLw1tfCRAI",
        "outputId": "8da41821-22b0-4beb-86d7-da83052663e8"
      },
      "source": [
        "loss = history.history['loss']\n",
        "val_loss = history.history['val_loss']\n",
        "\n",
        "epochs = range(len(loss))\n",
        "\n",
        "plt.figure()\n",
        "\n",
        "plt.plot(epochs, loss, 'bo', label='Training loss')\n",
        "plt.plot(epochs, val_loss, 'b', label='Validation loss')\n",
        "plt.title('Training and validation loss')\n",
        "plt.legend()\n",
        "\n",
        "plt.show()"
      ],
      "execution_count": null,
      "outputs": [
        {
          "output_type": "display_data",
          "data": {
            "image/png": "[encoded data removed]",
            "text/plain": [
              "<Figure size 432x288 with 1 Axes>"
            ]
          },
          "metadata": {
            "tags": []
          }
        }
      ]
    },
    {
      "cell_type": "markdown",
      "metadata": {
        "id": "iV3RKTY-Cgt4"
      },
      "source": [
        "Using recurrent dropout to fight overfitting"
      ]
    },
    {
      "cell_type": "code",
      "metadata": {
        "colab": {
          "base_uri": "https://localhost:8080/"
        },
        "id": "XVDXE_LZCrOX",
        "outputId": "95e4280b-0cc6-41b0-ae50-630a2a97837a"
      },
      "source": [
        "from keras.models import Sequential\n",
        "from keras import layers\n",
        "from keras.optimizers import RMSprop\n",
        "\n",
        "model = Sequential()\n",
        "model.add(layers.GRU(32,\n",
        "                     dropout=0.2,\n",
        "                     recurrent_dropout=0.2,\n",
        "                     input_shape=(None, float_data.shape[-1])))\n",
        "model.add(layers.Dense(1))\n",
        "\n",
        "model.compile(optimizer=RMSprop(), loss='mae')\n",
        "history = model.fit_generator(train_gen,\n",
        "                              steps_per_epoch=500,\n",
        "                              epochs=10,\n",
        "                              validation_data=val_gen,\n",
        "                              validation_steps=val_steps)"
      ],
      "execution_count": null,
      "outputs": [
        {
          "output_type": "stream",
          "text": [
            "/usr/local/lib/python3.7/dist-packages/tensorflow/python/keras/engine/training.py:1844: UserWarning: `Model.fit_generator` is deprecated and will be removed in a future version. Please use `Model.fit`, which supports generators.\n",
            "  warnings.warn('`Model.fit_generator` is deprecated and '\n"
          ],
          "name": "stderr"
        },
        {
          "output_type": "stream",
          "text": [
            "Epoch 1/10\n",
            "500/500 [==============================] - 144s 284ms/step - loss: 0.3309 - val_loss: 0.2764\n",
            "Epoch 2/10\n",
            "500/500 [==============================] - 138s 277ms/step - loss: 0.3056 - val_loss: 0.2699\n",
            "Epoch 3/10\n",
            "500/500 [==============================] - 140s 281ms/step - loss: 0.2999 - val_loss: 0.2708\n",
            "Epoch 4/10\n",
            "500/500 [==============================] - 141s 283ms/step - loss: 0.2980 - val_loss: 0.2658\n",
            "Epoch 5/10\n",
            "500/500 [==============================] - 140s 280ms/step - loss: 0.2907 - val_loss: 0.2686\n",
            "Epoch 6/10\n",
            "500/500 [==============================] - 138s 277ms/step - loss: 0.2870 - val_loss: 0.2687\n",
            "Epoch 7/10\n",
            "500/500 [==============================] - 139s 277ms/step - loss: 0.2845 - val_loss: 0.2695\n",
            "Epoch 8/10\n",
            "500/500 [==============================] - 138s 276ms/step - loss: 0.2810 - val_loss: 0.2658\n",
            "Epoch 9/10\n",
            "500/500 [==============================] - 137s 275ms/step - loss: 0.2791 - val_loss: 0.2875\n",
            "Epoch 10/10\n",
            "500/500 [==============================] - 138s 276ms/step - loss: 0.2742 - val_loss: 0.2651\n"
          ],
          "name": "stdout"
        }
      ]
    },
    {
      "cell_type": "code",
      "metadata": {
        "colab": {
          "base_uri": "https://localhost:8080/",
          "height": 281
        },
        "id": "8EJQCd8fIsEt",
        "outputId": "53c977ef-53d7-4443-e449-dbd35181881e"
      },
      "source": [
        "loss = history.history['loss']\n",
        "val_loss = history.history['val_loss']\n",
        "\n",
        "epochs = range(len(loss))\n",
        "\n",
        "plt.figure()\n",
        "\n",
        "plt.plot(epochs, loss, 'bo', label='Training loss')\n",
        "plt.plot(epochs, val_loss, 'b', label='Validation loss')\n",
        "plt.title('Training and validation loss')\n",
        "plt.legend()\n",
        "\n",
        "plt.show()"
      ],
      "execution_count": null,
      "outputs": [
        {
          "output_type": "display_data",
          "data": {
            "image/png": "[encoded data removed]",
            "text/plain": [
              "<Figure size 432x288 with 1 Axes>"
            ]
          },
          "metadata": {
            "tags": []
          }
        }
      ]
    },
    {
      "cell_type": "code",
      "metadata": {
        "id": "o5pf9exUyS18"
      },
      "source": [
        ""
      ],
      "execution_count": null,
      "outputs": []
    },
    {
      "cell_type": "markdown",
      "metadata": {
        "id": "M1e3xm9xI42r"
      },
      "source": [
        "using Stacking recurrent layers"
      ]
    },
    {
      "cell_type": "code",
      "metadata": {
        "colab": {
          "base_uri": "https://localhost:8080/"
        },
        "id": "fIvOxXbLI7WT",
        "outputId": "be02b340-7ec6-4ebc-bdf7-87b893246c9f"
      },
      "source": [
        "from keras.models import Sequential\n",
        "from keras import layers\n",
        "from keras.optimizers import RMSprop\n",
        "\n",
        "model = Sequential()\n",
        "model.add(layers.GRU(32,\n",
        "                     dropout=0.1,\n",
        "                     recurrent_dropout=0.5,\n",
        "                     return_sequences=True,\n",
        "                     input_shape=(None, float_data.shape[-1])))\n",
        "model.add(layers.GRU(64, activation='relu',\n",
        "                     dropout=0.1, \n",
        "                     recurrent_dropout=0.5))\n",
        "model.add(layers.Dense(1))\n",
        "\n",
        "model.compile(optimizer=RMSprop(), loss='mae')\n",
        "history = model.fit_generator(train_gen,\n",
        "                              steps_per_epoch=500,\n",
        "                              epochs=10,\n",
        "                              validation_data=val_gen,\n",
        "                              validation_steps=val_steps)"
      ],
      "execution_count": null,
      "outputs": [
        {
          "output_type": "stream",
          "text": [
            "/usr/local/lib/python3.7/dist-packages/tensorflow/python/keras/engine/training.py:1844: UserWarning: `Model.fit_generator` is deprecated and will be removed in a future version. Please use `Model.fit`, which supports generators.\n",
            "  warnings.warn('`Model.fit_generator` is deprecated and '\n"
          ],
          "name": "stderr"
        },
        {
          "output_type": "stream",
          "text": [
            "Epoch 1/10\n",
            "500/500 [==============================] - 405s 801ms/step - loss: 0.3469 - val_loss: 0.2766\n",
            "Epoch 2/10\n",
            "500/500 [==============================] - 406s 812ms/step - loss: 0.3017 - val_loss: 0.2748\n",
            "Epoch 3/10\n",
            "500/500 [==============================] - 415s 830ms/step - loss: 0.2980 - val_loss: 0.2821\n",
            "Epoch 4/10\n",
            "500/500 [==============================] - 417s 833ms/step - loss: 0.2909 - val_loss: 0.2836\n",
            "Epoch 5/10\n",
            "500/500 [==============================] - 411s 823ms/step - loss: 0.2843 - val_loss: 0.2724\n",
            "Epoch 6/10\n",
            "500/500 [==============================] - 413s 826ms/step - loss: 0.2759 - val_loss: 0.2819\n",
            "Epoch 7/10\n",
            "500/500 [==============================] - 414s 829ms/step - loss: 0.2689 - val_loss: 0.2806\n",
            "Epoch 8/10\n",
            "500/500 [==============================] - 414s 829ms/step - loss: 0.2656 - val_loss: 0.2823\n",
            "Epoch 9/10\n",
            "500/500 [==============================] - 414s 828ms/step - loss: 0.2608 - val_loss: 0.2934\n",
            "Epoch 10/10\n",
            "500/500 [==============================] - 413s 826ms/step - loss: 0.2548 - val_loss: 0.2857\n"
          ],
          "name": "stdout"
        }
      ]
    },
    {
      "cell_type": "code",
      "metadata": {
        "colab": {
          "base_uri": "https://localhost:8080/",
          "height": 281
        },
        "id": "MxAE74JJyUOi",
        "outputId": "14c03c7c-1b94-48a7-b4af-0d38f5e3ffaa"
      },
      "source": [
        "loss = history.history['loss']\n",
        "val_loss = history.history['val_loss']\n",
        "\n",
        "epochs = range(len(loss))\n",
        "\n",
        "plt.figure()\n",
        "\n",
        "plt.plot(epochs, loss, 'bo', label='Training loss')\n",
        "plt.plot(epochs, val_loss, 'b', label='Validation loss')\n",
        "plt.title('Training and validation loss')\n",
        "plt.legend()\n",
        "\n",
        "plt.show()"
      ],
      "execution_count": null,
      "outputs": [
        {
          "output_type": "display_data",
          "data": {
            "image/png": "[encoded data removed]",
            "text/plain": [
              "<Figure size 432x288 with 1 Axes>"
            ]
          },
          "metadata": {
            "tags": []
          }
        }
      ]
    },
    {
      "cell_type": "markdown",
      "metadata": {
        "id": "Folp71-_0WAW"
      },
      "source": [
        "Using bidirectional RNNs"
      ]
    },
    {
      "cell_type": "code",
      "metadata": {
        "id": "Faw-oo3R0diZ"
      },
      "source": [
        "def reverse_order_generator(data, lookback, delay, min_index, max_index,\n",
        "                            shuffle=False, batch_size=128, step=6):\n",
        "    if max_index is None:\n",
        "        max_index = len(data) - delay - 1\n",
        "    i = min_index + lookback\n",
        "    while 1:\n",
        "        if shuffle:\n",
        "            rows = np.random.randint(\n",
        "                min_index + lookback, max_index, size=batch_size)\n",
        "        else:\n",
        "            if i + batch_size >= max_index:\n",
        "                i = min_index + lookback\n",
        "            rows = np.arange(i, min(i + batch_size, max_index))\n",
        "            i += len(rows)\n",
        "\n",
        "        samples = np.zeros((len(rows),\n",
        "                           lookback // step,\n",
        "                           data.shape[-1]))\n",
        "        targets = np.zeros((len(rows),))\n",
        "        for j, row in enumerate(rows):\n",
        "            indices = range(rows[j] - lookback, rows[j], step)\n",
        "            samples[j] = data[indices]\n",
        "            targets[j] = data[rows[j] + delay][1]\n",
        "        yield samples[:, ::-1, :], targets\n",
        "        \n",
        "train_gen_reverse = reverse_order_generator(\n",
        "    float_data,\n",
        "    lookback=lookback,\n",
        "    delay=delay,\n",
        "    min_index=0,\n",
        "    max_index=200000,\n",
        "    shuffle=True,\n",
        "    step=step, \n",
        "    batch_size=batch_size)\n",
        "val_gen_reverse = reverse_order_generator(\n",
        "    float_data,\n",
        "    lookback=lookback,\n",
        "    delay=delay,\n",
        "    min_index=200001,\n",
        "    max_index=300000,\n",
        "    step=step,\n",
        "    batch_size=batch_size)"
      ],
      "execution_count": 33,
      "outputs": []
    },
    {
      "cell_type": "code",
      "metadata": {
        "colab": {
          "base_uri": "https://localhost:8080/"
        },
        "id": "qC338EYn0sWT",
        "outputId": "7e4684aa-7382-4e1b-b808-9c2a7601f588"
      },
      "source": [
        "model = Sequential()\n",
        "model.add(layers.GRU(32, input_shape=(None, float_data.shape[-1])))\n",
        "model.add(layers.Dense(1))\n",
        "\n",
        "model.compile(optimizer=RMSprop(), loss='mae')\n",
        "history = model.fit_generator(train_gen_reverse,\n",
        "                              steps_per_epoch=500,\n",
        "                              epochs=20,\n",
        "                              validation_data=val_gen_reverse,\n",
        "                              validation_steps=val_steps)"
      ],
      "execution_count": 36,
      "outputs": [
        {
          "output_type": "stream",
          "text": [
            "/usr/local/lib/python3.7/dist-packages/tensorflow/python/keras/engine/training.py:1844: UserWarning: `Model.fit_generator` is deprecated and will be removed in a future version. Please use `Model.fit`, which supports generators.\n",
            "  warnings.warn('`Model.fit_generator` is deprecated and '\n"
          ],
          "name": "stderr"
        },
        {
          "output_type": "stream",
          "text": [
            "Epoch 1/20\n",
            "500/500 [==============================] - 99s 194ms/step - loss: 0.5358 - val_loss: 0.4818\n",
            "Epoch 2/20\n",
            "500/500 [==============================] - 93s 185ms/step - loss: 0.4555 - val_loss: 0.4668\n",
            "Epoch 3/20\n",
            "500/500 [==============================] - 95s 189ms/step - loss: 0.4053 - val_loss: 0.4325\n",
            "Epoch 4/20\n",
            "500/500 [==============================] - 91s 182ms/step - loss: 0.3615 - val_loss: 0.4039\n",
            "Epoch 5/20\n",
            "500/500 [==============================] - 92s 184ms/step - loss: 0.3334 - val_loss: 0.3853\n",
            "Epoch 6/20\n",
            "500/500 [==============================] - 94s 188ms/step - loss: 0.3107 - val_loss: 0.3796\n",
            "Epoch 7/20\n",
            "500/500 [==============================] - 91s 183ms/step - loss: 0.2948 - val_loss: 0.3652\n",
            "Epoch 8/20\n",
            "500/500 [==============================] - 91s 183ms/step - loss: 0.2806 - val_loss: 0.3650\n",
            "Epoch 9/20\n",
            "500/500 [==============================] - 93s 187ms/step - loss: 0.2685 - val_loss: 0.3557\n",
            "Epoch 10/20\n",
            "500/500 [==============================] - 93s 186ms/step - loss: 0.2611 - val_loss: 0.3493\n",
            "Epoch 11/20\n",
            "500/500 [==============================] - 93s 186ms/step - loss: 0.2555 - val_loss: 0.3614\n",
            "Epoch 12/20\n",
            "500/500 [==============================] - 95s 190ms/step - loss: 0.2486 - val_loss: 0.3611\n",
            "Epoch 13/20\n",
            "500/500 [==============================] - 92s 184ms/step - loss: 0.2416 - val_loss: 0.3687\n",
            "Epoch 14/20\n",
            "500/500 [==============================] - 92s 184ms/step - loss: 0.2382 - val_loss: 0.3530\n",
            "Epoch 15/20\n",
            "500/500 [==============================] - 92s 185ms/step - loss: 0.2339 - val_loss: 0.3598\n",
            "Epoch 16/20\n",
            "500/500 [==============================] - 94s 188ms/step - loss: 0.2302 - val_loss: 0.3593\n",
            "Epoch 17/20\n",
            "500/500 [==============================] - 92s 184ms/step - loss: 0.2268 - val_loss: 0.3665\n",
            "Epoch 18/20\n",
            "500/500 [==============================] - 92s 184ms/step - loss: 0.2197 - val_loss: 0.3684\n",
            "Epoch 19/20\n",
            "500/500 [==============================] - 92s 184ms/step - loss: 0.2168 - val_loss: 0.3570\n",
            "Epoch 20/20\n",
            "500/500 [==============================] - 93s 186ms/step - loss: 0.2151 - val_loss: 0.3748\n"
          ],
          "name": "stdout"
        }
      ]
    },
    {
      "cell_type": "code",
      "metadata": {
        "colab": {
          "base_uri": "https://localhost:8080/",
          "height": 281
        },
        "id": "SYCm_gvbzVmH",
        "outputId": "d6dc8d65-b1c7-453b-c220-f663c64718f9"
      },
      "source": [
        "import matplotlib.pyplot as plt\n",
        "loss = history.history['loss']\n",
        "val_loss = history.history['val_loss']\n",
        "\n",
        "epochs = range(len(loss))\n",
        "\n",
        "plt.figure()\n",
        "\n",
        "plt.plot(epochs, loss, 'bo', label='Training loss')\n",
        "plt.plot(epochs, val_loss, 'b', label='Validation loss')\n",
        "plt.title('Training and validation loss')\n",
        "plt.legend()\n",
        "\n",
        "plt.show()"
      ],
      "execution_count": 40,
      "outputs": [
        {
          "output_type": "display_data",
          "data": {
            "image/png": "[encoded data removed]",
            "text/plain": [
              "<Figure size 432x288 with 1 Axes>"
            ]
          },
          "metadata": {
            "tags": [],
            "needs_background": "light"
          }
        }
      ]
    },
    {
      "cell_type": "code",
      "metadata": {
        "id": "iyuUmYosI10a"
      },
      "source": [
        "from keras import backend as K\n",
        "K.clear_session()"
      ],
      "execution_count": 41,
      "outputs": []
    },
    {
      "cell_type": "code",
      "metadata": {
        "colab": {
          "base_uri": "https://localhost:8080/"
        },
        "id": "6MBlw_dRJA06",
        "outputId": "8f6efef3-bcd6-4dbb-ed29-0a6169fa8e57"
      },
      "source": [
        "from keras.models import Sequential\n",
        "from keras import layers\n",
        "from keras.optimizers import RMSprop\n",
        "\n",
        "model = Sequential()\n",
        "model.add(layers.Bidirectional(\n",
        "    layers.GRU(32), input_shape=(None, float_data.shape[-1])))\n",
        "model.add(layers.Dense(1))\n",
        "\n",
        "model.compile(optimizer=RMSprop(), loss='mae')\n",
        "history = model.fit_generator(train_gen,\n",
        "                              steps_per_epoch=500,\n",
        "                              epochs=10,\n",
        "                              validation_data=val_gen,\n",
        "                              validation_steps=val_steps)"
      ],
      "execution_count": 45,
      "outputs": [
        {
          "output_type": "stream",
          "text": [
            "/usr/local/lib/python3.7/dist-packages/tensorflow/python/keras/engine/training.py:1844: UserWarning: `Model.fit_generator` is deprecated and will be removed in a future version. Please use `Model.fit`, which supports generators.\n",
            "  warnings.warn('`Model.fit_generator` is deprecated and '\n"
          ],
          "name": "stderr"
        },
        {
          "output_type": "stream",
          "text": [
            "Epoch 1/10\n",
            "500/500 [==============================] - 160s 312ms/step - loss: 0.3124 - val_loss: 0.2731\n",
            "Epoch 2/10\n",
            "500/500 [==============================] - 155s 310ms/step - loss: 0.2761 - val_loss: 0.2780\n",
            "Epoch 3/10\n",
            "500/500 [==============================] - 155s 310ms/step - loss: 0.2668 - val_loss: 0.2727\n",
            "Epoch 4/10\n",
            "500/500 [==============================] - 156s 311ms/step - loss: 0.2622 - val_loss: 0.2679\n",
            "Epoch 5/10\n",
            "500/500 [==============================] - 156s 312ms/step - loss: 0.2577 - val_loss: 0.2686\n",
            "Epoch 6/10\n",
            "500/500 [==============================] - 159s 318ms/step - loss: 0.2509 - val_loss: 0.2678\n",
            "Epoch 7/10\n",
            "500/500 [==============================] - 158s 316ms/step - loss: 0.2456 - val_loss: 0.2730\n",
            "Epoch 8/10\n",
            "500/500 [==============================] - 157s 314ms/step - loss: 0.2380 - val_loss: 0.2801\n",
            "Epoch 9/10\n",
            "500/500 [==============================] - 156s 313ms/step - loss: 0.2320 - val_loss: 0.2751\n",
            "Epoch 10/10\n",
            "500/500 [==============================] - 155s 310ms/step - loss: 0.2269 - val_loss: 0.2807\n"
          ],
          "name": "stdout"
        }
      ]
    },
    {
      "cell_type": "code",
      "metadata": {
        "colab": {
          "base_uri": "https://localhost:8080/",
          "height": 281
        },
        "id": "qKLqE-b3S06y",
        "outputId": "90f7f112-fa94-41cf-ff79-bc10debe1a79"
      },
      "source": [
        "loss = history.history['loss']\n",
        "val_loss = history.history['val_loss']\n",
        "\n",
        "epochs = range(len(loss))\n",
        "\n",
        "plt.figure()\n",
        "\n",
        "plt.plot(epochs, loss, 'bo', label='Training loss')\n",
        "plt.plot(epochs, val_loss, 'b', label='Validation loss')\n",
        "plt.title('Training and validation loss')\n",
        "plt.legend()\n",
        "\n",
        "plt.show()"
      ],
      "execution_count": 46,
      "outputs": [
        {
          "output_type": "display_data",
          "data": {
            "image/png": "[encoded data removed]",
            "text/plain": [
              "<Figure size 432x288 with 1 Axes>"
            ]
          },
          "metadata": {
            "tags": [],
            "needs_background": "light"
          }
        }
      ]
    },
    {
      "cell_type": "code",
      "metadata": {
        "id": "Yi_dBkMveLkA"
      },
      "source": [
        ""
      ],
      "execution_count": null,
      "outputs": []
    },
    {
      "cell_type": "code",
      "metadata": {
        "id": "2Tn3himaYtQ6"
      },
      "source": [
        "def reverse_order_generator(data, lookback, delay, min_index, max_index,\n",
        "                            shuffle=False, batch_size=128, step=6):\n",
        "    if max_index is None:\n",
        "        max_index = len(data) - delay - 1\n",
        "    i = min_index + lookback\n",
        "    while 1:\n",
        "        if shuffle:\n",
        "            rows = np.random.randint(\n",
        "                min_index + lookback, max_index, size=batch_size)\n",
        "        else:\n",
        "            if i + batch_size >= max_index:\n",
        "                i = min_index + lookback\n",
        "            rows = np.arange(i, min(i + batch_size, max_index))\n",
        "            i += len(rows)\n",
        "\n",
        "        samples = np.zeros((len(rows),\n",
        "                           lookback // step,\n",
        "                           data.shape[-1]))\n",
        "        targets = np.zeros((len(rows),))\n",
        "        for j, row in enumerate(rows):\n",
        "            indices = range(rows[j] - lookback, rows[j], step)\n",
        "            samples[j] = data[indices]\n",
        "            targets[j] = data[rows[j] + delay][1]\n",
        "        yield samples[:, ::-1, :], targets\n",
        "        \n",
        "train_gen_reverse = reverse_order_generator(\n",
        "    float_data,\n",
        "    lookback=lookback,\n",
        "    delay=delay,\n",
        "    min_index=0,\n",
        "    max_index=200000,\n",
        "    shuffle=True,\n",
        "    step=step, \n",
        "    batch_size=batch_size)\n",
        "test_gen_reverse = reverse_order_generator(\n",
        "    float_data,\n",
        "    lookback=lookback,\n",
        "    delay=delay,\n",
        "    min_index=200001,\n",
        "    max_index=300000,\n",
        "    step=step,\n",
        "    batch_size=batch_size)"
      ],
      "execution_count": 50,
      "outputs": []
    },
    {
      "cell_type": "code",
      "metadata": {
        "colab": {
          "base_uri": "https://localhost:8080/"
        },
        "id": "rXI1c3AqULpd",
        "outputId": "bfefce0c-4412-4fbf-8a9a-59ba289c4e99"
      },
      "source": [
        "model = Sequential()\n",
        "model.add(layers.GRU(32, input_shape=(None, float_data.shape[-1])))\n",
        "model.add(layers.Dense(1))\n",
        "\n",
        "model.compile(optimizer=RMSprop(), loss='mae')\n",
        "history = model.fit_generator(train_gen_reverse,\n",
        "                              steps_per_epoch=500,\n",
        "                              epochs=10,\n",
        "                              validation_data=test_gen_reverse,\n",
        "                              validation_steps=test_steps)"
      ],
      "execution_count": 60,
      "outputs": [
        {
          "output_type": "stream",
          "text": [
            "/usr/local/lib/python3.7/dist-packages/tensorflow/python/keras/engine/training.py:1844: UserWarning: `Model.fit_generator` is deprecated and will be removed in a future version. Please use `Model.fit`, which supports generators.\n",
            "  warnings.warn('`Model.fit_generator` is deprecated and '\n"
          ],
          "name": "stderr"
        },
        {
          "output_type": "stream",
          "text": [
            "Epoch 1/10\n",
            "500/500 [==============================] - 101s 199ms/step - loss: 0.4981 - val_loss: 0.4909\n",
            "Epoch 2/10\n",
            "500/500 [==============================] - 97s 193ms/step - loss: 0.4476 - val_loss: 0.4852\n",
            "Epoch 3/10\n",
            "500/500 [==============================] - 97s 194ms/step - loss: 0.3999 - val_loss: 0.4363\n",
            "Epoch 4/10\n",
            "500/500 [==============================] - 98s 195ms/step - loss: 0.3523 - val_loss: 0.4509\n",
            "Epoch 5/10\n",
            "500/500 [==============================] - 97s 194ms/step - loss: 0.3309 - val_loss: 0.4215\n",
            "Epoch 6/10\n",
            "500/500 [==============================] - 98s 197ms/step - loss: 0.3131 - val_loss: 0.4268\n",
            "Epoch 7/10\n",
            "500/500 [==============================] - 99s 198ms/step - loss: 0.2958 - val_loss: 0.4050\n",
            "Epoch 8/10\n",
            "500/500 [==============================] - 98s 196ms/step - loss: 0.2803 - val_loss: 0.3979\n",
            "Epoch 9/10\n",
            "500/500 [==============================] - 96s 193ms/step - loss: 0.2680 - val_loss: 0.3839\n",
            "Epoch 10/10\n",
            "500/500 [==============================] - 96s 191ms/step - loss: 0.2589 - val_loss: 0.3928\n"
          ],
          "name": "stdout"
        }
      ]
    },
    {
      "cell_type": "code",
      "metadata": {
        "colab": {
          "base_uri": "https://localhost:8080/",
          "height": 281
        },
        "id": "ypvMBSYyeOmo",
        "outputId": "d0fa1c42-c973-42bb-c1fa-56a4db05d3e7"
      },
      "source": [
        "loss = history.history['loss']\n",
        "val_loss = history.history['val_loss']\n",
        "\n",
        "epochs = range(len(loss))\n",
        "\n",
        "plt.figure()\n",
        "\n",
        "plt.plot(epochs, loss, 'bo', label='Training loss')\n",
        "plt.plot(epochs, val_loss, 'b', label='Validation loss')\n",
        "plt.title('Training and validation loss')\n",
        "plt.legend()\n",
        "\n",
        "plt.show()\n",
        "\n"
      ],
      "execution_count": 61,
      "outputs": [
        {
          "output_type": "display_data",
          "data": {
            "image/png": "[encoded data removed]",
            "text/plain": [
              "<Figure size 432x288 with 1 Axes>"
            ]
          },
          "metadata": {
            "tags": [],
            "needs_background": "light"
          }
        }
      ]
    },
    {
      "cell_type": "markdown",
      "metadata": {
        "id": "XWImnNb1fJZR"
      },
      "source": [
        "Using RNN - We got a validation MAE of 0.2651 @ 3epochs before the model starts to overfit\n",
        "\n",
        "\n",
        "Using recurrent drop out – we got a validation MAE of 0.2658 @4epochs before the model starts to overfit\n",
        "\n",
        "\n",
        "\n",
        "Using stacking recurrent layers – we got a validation MAE of 0.2724@ 5epochs before the model starts to  overfit\n",
        "\n",
        "\n",
        "Using Bidirectional RNN’s (reverse order)– we got a validation MAE of 0.3493 @ 10epochs before the model starts to overfit\n",
        "\n",
        "\n",
        "Adjusting the bidirectional RNN’s to chronological order-  we got a validation MAE of 0.2780 @ 2epochs before the model starts to overfit\n",
        "\n",
        "\n",
        "Applying Bidirectional RNN (reverse order) to our test data – we got a validation MAE of 0.4363 @ 3epochs before the model starts to overfit\n"
      ]
    },
    {
      "cell_type": "markdown",
      "metadata": {
        "id": "uAU05IyefLhn"
      },
      "source": [
        ""
      ]
    },
    {
      "cell_type": "markdown",
      "metadata": {
        "id": "cRrrDkVkg1Sg"
      },
      "source": [
        ""
      ]
    }
  ]
}