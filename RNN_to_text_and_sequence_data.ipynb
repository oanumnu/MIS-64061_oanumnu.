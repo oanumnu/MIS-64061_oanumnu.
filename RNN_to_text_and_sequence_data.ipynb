{
  "nbformat": 4,
  "nbformat_minor": 0,
  "metadata": {
    "colab": {
      "name": "RNN to text and sequence data",
      "provenance": [],
      "collapsed_sections": [],
      "authorship_tag": "ABX9TyNkyiX7RfKbbGYXBNXTc2T3",
      "include_colab_link": true
    },
    "kernelspec": {
      "name": "python3",
      "display_name": "Python 3"
    },
    "language_info": {
      "name": "python"
    }
  },
  "cells": [
    {
      "cell_type": "markdown",
      "metadata": {
        "id": "view-in-github",
        "colab_type": "text"
      },
      "source": [
        "<a href=\"https://colab.research.google.com/github/oanumnu/MIS-64061_oanumnu./blob/main/RNN_to_text_and_sequence_data.ipynb\" target=\"_parent\"><img src=\"https://colab.research.google.com/assets/colab-badge.svg\" alt=\"Open In Colab\"/></a>"
      ]
    },
    {
      "cell_type": "code",
      "metadata": {
        "colab": {
          "base_uri": "https://localhost:8080/",
          "height": 35
        },
        "id": "pBOyL2d3C4IR",
        "outputId": "ffa23b2f-a0ce-4b48-d498-5938ebc488f5"
      },
      "source": [
        "import keras\n",
        "keras.__version__"
      ],
      "execution_count": null,
      "outputs": [
        {
          "output_type": "execute_result",
          "data": {
            "application/vnd.google.colaboratory.intrinsic+json": {
              "type": "string"
            },
            "text/plain": [
              "'2.4.3'"
            ]
          },
          "metadata": {
            "tags": []
          },
          "execution_count": 1
        }
      ]
    },
    {
      "cell_type": "markdown",
      "metadata": {
        "id": "hEf61I44DlTY"
      },
      "source": [
        "Using Pretrained word embedding"
      ]
    },
    {
      "cell_type": "code",
      "metadata": {
        "colab": {
          "base_uri": "https://localhost:8080/"
        },
        "id": "Xa7iamIAC_lu",
        "outputId": "acfc92c1-004f-4453-b205-81b1630bc0c7"
      },
      "source": [
        "from google.colab import drive\n",
        "drive.mount('/content/drive')"
      ],
      "execution_count": null,
      "outputs": [
        {
          "output_type": "stream",
          "text": [
            "Mounted at /content/drive\n"
          ],
          "name": "stdout"
        }
      ]
    },
    {
      "cell_type": "code",
      "metadata": {
        "id": "Zu82eYFSDKu_"
      },
      "source": [
        "import os, shutil"
      ],
      "execution_count": null,
      "outputs": []
    },
    {
      "cell_type": "code",
      "metadata": {
        "colab": {
          "base_uri": "https://localhost:8080/"
        },
        "id": "qMbOi-i8DTT7",
        "outputId": "9f84a1eb-d84c-435c-95d7-84762799ccfd"
      },
      "source": [
        "imdb_dir = '/content/drive/MyDrive/aclImdb'\n",
        "!ls '/content/drive/MyDrive/aclImdb'"
      ],
      "execution_count": null,
      "outputs": [
        {
          "output_type": "stream",
          "text": [
            " imdbEr.txt   imdb.vocab  'New Text Document.txt'   README   test   train\n"
          ],
          "name": "stdout"
        }
      ]
    },
    {
      "cell_type": "markdown",
      "metadata": {
        "id": "cNwOzNAWD5iC"
      },
      "source": [
        "Import data"
      ]
    },
    {
      "cell_type": "code",
      "metadata": {
        "id": "4g3oOKYJDXZR"
      },
      "source": [
        "import os\n",
        "\n",
        "train_dir = os.path.join(imdb_dir, 'train')\n",
        "\n",
        "labels = []\n",
        "texts = []\n",
        "\n",
        "for label_type in ['neg', 'pos']:\n",
        "    dir_name = os.path.join(train_dir, label_type)\n",
        "    for fname in os.listdir(dir_name):\n",
        "        if fname[-4:] == '.txt':\n",
        "            f = open(os.path.join(dir_name, fname))\n",
        "            texts.append(f.read())\n",
        "            f.close()\n",
        "            if label_type == 'neg':\n",
        "                labels.append(0)\n",
        "            else:\n",
        "                labels.append(1)"
      ],
      "execution_count": null,
      "outputs": []
    },
    {
      "cell_type": "markdown",
      "metadata": {
        "id": "aGSj9B0ZD-t0"
      },
      "source": [
        "Tokenize the data"
      ]
    },
    {
      "cell_type": "code",
      "metadata": {
        "colab": {
          "base_uri": "https://localhost:8080/"
        },
        "id": "vxiCuhOlcnPY",
        "outputId": "7628188a-64ca-4cbe-93d4-84bdeb853e82"
      },
      "source": [
        "from keras.preprocessing.text import Tokenizer\n",
        "from keras.preprocessing.sequence import pad_sequences\n",
        "import numpy as np\n",
        "\n",
        "maxlen = 150\n",
        "training_samples = 100\n",
        "validation_samples = 10000\n",
        "max_words = 10000\n",
        "\n",
        "tokenizer = Tokenizer(num_words=max_words)\n",
        "tokenizer.fit_on_texts(texts)\n",
        "sequences = tokenizer.texts_to_sequences(texts)\n",
        "\n",
        "word_index = tokenizer.word_index\n",
        "print('Found %s unique tokens.' % len(word_index))\n",
        "\n",
        "data = pad_sequences(sequences, maxlen=maxlen)\n",
        "\n",
        "labels = np.asarray(labels)\n",
        "print('Shape of data tensor:', data.shape)\n",
        "print('Shape of label tensor:', labels.shape)\n",
        "\n",
        "indices = np.arange(data.shape[0])\n",
        "np.random.shuffle(indices)\n",
        "data = data[indices]\n",
        "labels = labels[indices]\n",
        "\n",
        "x_train = data[:training_samples]\n",
        "y_train = labels[:training_samples]\n",
        "x_val = data[training_samples: training_samples + validation_samples]\n",
        "y_val = labels[training_samples: training_samples + validation_samples]"
      ],
      "execution_count": null,
      "outputs": [
        {
          "output_type": "stream",
          "text": [
            "Found 88582 unique tokens.\n",
            "Shape of data tensor: (25000, 150)\n",
            "Shape of label tensor: (25000,)\n"
          ],
          "name": "stdout"
        }
      ]
    },
    {
      "cell_type": "markdown",
      "metadata": {
        "id": "ocuyaLAyENML"
      },
      "source": [
        "import glove 6b"
      ]
    },
    {
      "cell_type": "code",
      "metadata": {
        "colab": {
          "base_uri": "https://localhost:8080/"
        },
        "id": "wMksGnQAdLaq",
        "outputId": "83258859-071a-4583-fad7-e820ba81f51e"
      },
      "source": [
        "glove_dir = '/content/drive/MyDrive/glove.6B'\n",
        "!ls '/content/drive/MyDrive/glove.6B'"
      ],
      "execution_count": null,
      "outputs": [
        {
          "output_type": "stream",
          "text": [
            "glove.6B.100d.txt  glove.6B.200d.txt  glove.6B.300d.txt  glove.6B.50d.txt\n"
          ],
          "name": "stdout"
        }
      ]
    },
    {
      "cell_type": "markdown",
      "metadata": {
        "id": "L_TfA-DnETnJ"
      },
      "source": [
        "Preprocess embeddings"
      ]
    },
    {
      "cell_type": "code",
      "metadata": {
        "colab": {
          "base_uri": "https://localhost:8080/"
        },
        "id": "GnwtoxofdQ1o",
        "outputId": "14291ac8-929c-498f-e571-3a68381b11bf"
      },
      "source": [
        "from keras.preprocessing.text import Tokenizer\n",
        "from keras.preprocessing.sequence import pad_sequences\n",
        "import numpy as np\n",
        "\n",
        "embeddings_index = {}\n",
        "f = open(os.path.join(glove_dir, 'glove.6B.100d.txt'))\n",
        "for line in f:\n",
        "    values = line.split()\n",
        "    word = values[0]\n",
        "    coefs = np.asarray(values[1:], dtype='float32')\n",
        "    embeddings_index[word] = coefs\n",
        "f.close()\n",
        "\n",
        "print('Found %s word vectors.' % len(embeddings_index))"
      ],
      "execution_count": null,
      "outputs": [
        {
          "output_type": "stream",
          "text": [
            "Found 400000 word vectors.\n"
          ],
          "name": "stdout"
        }
      ]
    },
    {
      "cell_type": "code",
      "metadata": {
        "id": "seG6KUF2f_O3"
      },
      "source": [
        "embedding_dim = 100\n",
        "\n",
        "embedding_matrix = np.zeros((max_words, embedding_dim))\n",
        "for word, i in word_index.items():\n",
        "    if i < max_words:\n",
        "        embedding_vector = embeddings_index.get(word)\n",
        "        if embedding_vector is not None:\n",
        "          embedding_matrix[i] = embedding_vector"
      ],
      "execution_count": null,
      "outputs": []
    },
    {
      "cell_type": "markdown",
      "metadata": {
        "id": "sy6K8t5MEbck"
      },
      "source": [
        "Build the model"
      ]
    },
    {
      "cell_type": "code",
      "metadata": {
        "colab": {
          "base_uri": "https://localhost:8080/"
        },
        "id": "1KjH8D4XgIwi",
        "outputId": "242e9cd7-0047-4608-a5f6-585ab4a877da"
      },
      "source": [
        "from keras.models import Sequential\n",
        "from keras.layers import Embedding, Flatten, Dense\n",
        "\n",
        "model = Sequential()\n",
        "model.add(Embedding(max_words, embedding_dim, input_length=maxlen))\n",
        "model.add(Flatten())\n",
        "model.add(Dense(32, activation='relu'))\n",
        "model.add(Dense(1, activation='sigmoid'))\n",
        "model.summary()"
      ],
      "execution_count": null,
      "outputs": [
        {
          "output_type": "stream",
          "text": [
            "Model: \"sequential\"\n",
            "_________________________________________________________________\n",
            "Layer (type)                 Output Shape              Param #   \n",
            "=================================================================\n",
            "embedding (Embedding)        (None, 150, 100)          1000000   \n",
            "_________________________________________________________________\n",
            "flatten (Flatten)            (None, 15000)             0         \n",
            "_________________________________________________________________\n",
            "dense (Dense)                (None, 32)                480032    \n",
            "_________________________________________________________________\n",
            "dense_1 (Dense)              (None, 1)                 33        \n",
            "=================================================================\n",
            "Total params: 1,480,065\n",
            "Trainable params: 1,480,065\n",
            "Non-trainable params: 0\n",
            "_________________________________________________________________\n"
          ],
          "name": "stdout"
        }
      ]
    },
    {
      "cell_type": "markdown",
      "metadata": {
        "id": "SQAmNMY_ElG7"
      },
      "source": [
        "Load the glove embeddings"
      ]
    },
    {
      "cell_type": "code",
      "metadata": {
        "id": "KIqCldrXgQcM"
      },
      "source": [
        "model.layers[0].set_weights([embedding_matrix])\n",
        "model.layers[0].trainable = False"
      ],
      "execution_count": null,
      "outputs": []
    },
    {
      "cell_type": "markdown",
      "metadata": {
        "id": "4LnBArn-EuEW"
      },
      "source": [
        "Train and evaluate"
      ]
    },
    {
      "cell_type": "code",
      "metadata": {
        "colab": {
          "base_uri": "https://localhost:8080/"
        },
        "id": "_D9CHRJSgXc5",
        "outputId": "7a6a1db0-4d13-4332-d5bf-cdbe5d57c2c2"
      },
      "source": [
        "model.compile(optimizer='rmsprop',\n",
        "              loss='binary_crossentropy',\n",
        "              metrics=['acc'])\n",
        "history = model.fit(x_train, y_train,\n",
        "                    epochs=10,\n",
        "                    batch_size=32,\n",
        "                    validation_data=(x_val, y_val))\n",
        "model.save_weights('pre_trained_glove_model.h5')"
      ],
      "execution_count": null,
      "outputs": [
        {
          "output_type": "stream",
          "text": [
            "Epoch 1/10\n",
            "4/4 [==============================] - 2s 296ms/step - loss: 2.2054 - acc: 0.5862 - val_loss: 0.7813 - val_acc: 0.5094\n",
            "Epoch 2/10\n",
            "4/4 [==============================] - 1s 223ms/step - loss: 0.6062 - acc: 0.6652 - val_loss: 0.6983 - val_acc: 0.5461\n",
            "Epoch 3/10\n",
            "4/4 [==============================] - 1s 222ms/step - loss: 0.3793 - acc: 0.8010 - val_loss: 0.9853 - val_acc: 0.5008\n",
            "Epoch 4/10\n",
            "4/4 [==============================] - 1s 237ms/step - loss: 0.1717 - acc: 0.9536 - val_loss: 1.4688 - val_acc: 0.5004\n",
            "Epoch 5/10\n",
            "4/4 [==============================] - 1s 248ms/step - loss: 0.3316 - acc: 0.7941 - val_loss: 0.7181 - val_acc: 0.5312\n",
            "Epoch 6/10\n",
            "4/4 [==============================] - 1s 240ms/step - loss: 0.0996 - acc: 0.9845 - val_loss: 0.9061 - val_acc: 0.5059\n",
            "Epoch 7/10\n",
            "4/4 [==============================] - 1s 247ms/step - loss: 0.0637 - acc: 1.0000 - val_loss: 0.7631 - val_acc: 0.5275\n",
            "Epoch 8/10\n",
            "4/4 [==============================] - 1s 231ms/step - loss: 0.0462 - acc: 1.0000 - val_loss: 0.8088 - val_acc: 0.5412\n",
            "Epoch 9/10\n",
            "4/4 [==============================] - 1s 217ms/step - loss: 0.0248 - acc: 1.0000 - val_loss: 0.7189 - val_acc: 0.5588\n",
            "Epoch 10/10\n",
            "4/4 [==============================] - 1s 239ms/step - loss: 0.0260 - acc: 1.0000 - val_loss: 0.7576 - val_acc: 0.5598\n"
          ],
          "name": "stdout"
        }
      ]
    },
    {
      "cell_type": "markdown",
      "metadata": {
        "id": "O2Vpx5M9FEYh"
      },
      "source": [
        "Plotting"
      ]
    },
    {
      "cell_type": "code",
      "metadata": {
        "colab": {
          "base_uri": "https://localhost:8080/",
          "height": 545
        },
        "id": "PtmavwvYgeYm",
        "outputId": "64fe3767-1953-4868-8974-53df74a43dcc"
      },
      "source": [
        "import matplotlib.pyplot as plt\n",
        "\n",
        "acc = history.history['acc']\n",
        "val_acc = history.history['val_acc']\n",
        "loss = history.history['loss']\n",
        "val_loss = history.history['val_loss']\n",
        "\n",
        "epochs = range(1, len(acc) + 1)\n",
        "\n",
        "plt.plot(epochs, acc, 'bo', label='Training acc')\n",
        "plt.plot(epochs, val_acc, 'b', label='Validation acc')\n",
        "plt.title('Training and validation accuracy')\n",
        "plt.legend()\n",
        "\n",
        "plt.figure()\n",
        "\n",
        "plt.plot(epochs, loss, 'bo', label='Training loss')\n",
        "plt.plot(epochs, val_loss, 'b', label='Validation loss')\n",
        "plt.title('Training and validation loss')\n",
        "plt.legend()\n",
        "\n",
        "plt.show()"
      ],
      "execution_count": null,
      "outputs": [
        {
          "output_type": "display_data",
          "data": {
            "image/png": "[encoded data removed]",
            "text/plain": [
              "<Figure size 432x288 with 1 Axes>"
            ]
          },
          "metadata": {
            "tags": [],
            "needs_background": "light"
          }
        },
        {
          "output_type": "display_data",
          "data": {
            "image/png": "[encoded data removed]",
            "text/plain": [
              "<Figure size 432x288 with 1 Axes>"
            ]
          },
          "metadata": {
            "tags": [],
            "needs_background": "light"
          }
        }
      ]
    },
    {
      "cell_type": "markdown",
      "metadata": {
        "id": "5V46aXX4FH2N"
      },
      "source": [
        "highest validation accuracy is 56% while training accuracy is 100%. model is overfitting"
      ]
    },
    {
      "cell_type": "markdown",
      "metadata": {
        "id": "he9DOOB7FdYE"
      },
      "source": [
        "Training the model with an embedding layer"
      ]
    },
    {
      "cell_type": "code",
      "metadata": {
        "colab": {
          "base_uri": "https://localhost:8080/"
        },
        "id": "Dh0m8LhigiHd",
        "outputId": "687912c7-c2eb-40d3-e446-c5bf79f21adf"
      },
      "source": [
        "from keras.models import Sequential\n",
        "from keras.layers import Embedding, Flatten, Dense\n",
        "\n",
        "model = Sequential()\n",
        "model.add(Embedding(max_words, embedding_dim, input_length=maxlen))\n",
        "model.add(Flatten())\n",
        "model.add(Dense(32, activation='relu'))\n",
        "model.add(Dense(1, activation='sigmoid'))\n",
        "model.summary()\n",
        "\n",
        "model.compile(optimizer='rmsprop',\n",
        "              loss='binary_crossentropy',\n",
        "              metrics=['acc'])\n",
        "history = model.fit(x_train, y_train,\n",
        "                    epochs=10,\n",
        "                    batch_size=32,\n",
        "                    validation_data=(x_val, y_val))"
      ],
      "execution_count": null,
      "outputs": [
        {
          "output_type": "stream",
          "text": [
            "Model: \"sequential_1\"\n",
            "_________________________________________________________________\n",
            "Layer (type)                 Output Shape              Param #   \n",
            "=================================================================\n",
            "embedding_1 (Embedding)      (None, 150, 100)          1000000   \n",
            "_________________________________________________________________\n",
            "flatten_1 (Flatten)          (None, 15000)             0         \n",
            "_________________________________________________________________\n",
            "dense_2 (Dense)              (None, 32)                480032    \n",
            "_________________________________________________________________\n",
            "dense_3 (Dense)              (None, 1)                 33        \n",
            "=================================================================\n",
            "Total params: 1,480,065\n",
            "Trainable params: 1,480,065\n",
            "Non-trainable params: 0\n",
            "_________________________________________________________________\n",
            "Epoch 1/10\n",
            "4/4 [==============================] - 2s 293ms/step - loss: 0.6990 - acc: 0.4752 - val_loss: 0.6924 - val_acc: 0.5119\n",
            "Epoch 2/10\n",
            "4/4 [==============================] - 1s 240ms/step - loss: 0.5086 - acc: 0.9661 - val_loss: 0.6925 - val_acc: 0.5160\n",
            "Epoch 3/10\n",
            "4/4 [==============================] - 1s 235ms/step - loss: 0.3354 - acc: 0.9693 - val_loss: 0.7030 - val_acc: 0.5106\n",
            "Epoch 4/10\n",
            "4/4 [==============================] - 1s 247ms/step - loss: 0.1941 - acc: 1.0000 - val_loss: 0.7128 - val_acc: 0.5052\n",
            "Epoch 5/10\n",
            "4/4 [==============================] - 1s 228ms/step - loss: 0.1177 - acc: 1.0000 - val_loss: 0.7054 - val_acc: 0.5092\n",
            "Epoch 6/10\n",
            "4/4 [==============================] - 1s 230ms/step - loss: 0.0648 - acc: 1.0000 - val_loss: 0.7018 - val_acc: 0.5237\n",
            "Epoch 7/10\n",
            "4/4 [==============================] - 1s 244ms/step - loss: 0.0453 - acc: 1.0000 - val_loss: 0.7043 - val_acc: 0.5179\n",
            "Epoch 8/10\n",
            "4/4 [==============================] - 1s 227ms/step - loss: 0.0255 - acc: 1.0000 - val_loss: 0.7107 - val_acc: 0.5238\n",
            "Epoch 9/10\n",
            "4/4 [==============================] - 1s 223ms/step - loss: 0.0186 - acc: 1.0000 - val_loss: 0.7180 - val_acc: 0.5217\n",
            "Epoch 10/10\n",
            "4/4 [==============================] - 1s 233ms/step - loss: 0.0139 - acc: 1.0000 - val_loss: 0.7202 - val_acc: 0.5252\n"
          ],
          "name": "stdout"
        }
      ]
    },
    {
      "cell_type": "code",
      "metadata": {
        "colab": {
          "base_uri": "https://localhost:8080/",
          "height": 545
        },
        "id": "8aoZM6k51Ote",
        "outputId": "3631e4cc-707e-4154-a446-279cf4dc9f19"
      },
      "source": [
        "acc = history.history['acc']\n",
        "val_acc = history.history['val_acc']\n",
        "loss = history.history['loss']\n",
        "val_loss = history.history['val_loss']\n",
        "\n",
        "epochs = range(1, len(acc) + 1)\n",
        "\n",
        "plt.plot(epochs, acc, 'bo', label='Training acc')\n",
        "plt.plot(epochs, val_acc, 'b', label='Validation acc')\n",
        "plt.title('Training and validation accuracy')\n",
        "plt.legend()\n",
        "\n",
        "plt.figure()\n",
        "\n",
        "plt.plot(epochs, loss, 'bo', label='Training loss')\n",
        "plt.plot(epochs, val_loss, 'b', label='Validation loss')\n",
        "plt.title('Training and validation loss')\n",
        "plt.legend()\n",
        "\n",
        "plt.show()"
      ],
      "execution_count": null,
      "outputs": [
        {
          "output_type": "display_data",
          "data": {
            "image/png": "[encoded data removed]",
            "text/plain": [
              "<Figure size 432x288 with 1 Axes>"
            ]
          },
          "metadata": {
            "tags": [],
            "needs_background": "light"
          }
        },
        {
          "output_type": "display_data",
          "data": {
            "image/png": "[encoded data removed]",
            "text/plain": [
              "<Figure size 432x288 with 1 Axes>"
            ]
          },
          "metadata": {
            "tags": [],
            "needs_background": "light"
          }
        }
      ]
    },
    {
      "cell_type": "markdown",
      "metadata": {
        "id": "L0z_tlbgFwtC"
      },
      "source": [
        "Evaluate the model on the test set"
      ]
    },
    {
      "cell_type": "markdown",
      "metadata": {
        "id": "MGiarT-cF9G6"
      },
      "source": [
        "Tokenize the data"
      ]
    },
    {
      "cell_type": "code",
      "metadata": {
        "id": "eOcFf61ogwsi"
      },
      "source": [
        "test_dir = os.path.join(imdb_dir, 'test')\n",
        "\n",
        "labels = []\n",
        "texts = []\n",
        "\n",
        "for label_type in ['neg', 'pos']:\n",
        "    dir_name = os.path.join(test_dir, label_type)\n",
        "    for fname in sorted(os.listdir(dir_name)):\n",
        "        if fname[-4:] == '.txt':\n",
        "            f = open(os.path.join(dir_name, fname))\n",
        "            texts.append(f.read())\n",
        "            f.close()\n",
        "            if label_type == 'neg':\n",
        "                labels.append(0)\n",
        "            else:\n",
        "                labels.append(1)\n",
        "\n",
        "sequences = tokenizer.texts_to_sequences(texts)\n",
        "x_test = pad_sequences(sequences, maxlen=maxlen)\n",
        "y_test = np.asarray(labels)"
      ],
      "execution_count": null,
      "outputs": []
    },
    {
      "cell_type": "markdown",
      "metadata": {
        "id": "8QZFDXXyGGgH"
      },
      "source": [
        "Evaluate the model"
      ]
    },
    {
      "cell_type": "code",
      "metadata": {
        "colab": {
          "base_uri": "https://localhost:8080/"
        },
        "id": "6tDQ81lADEEH",
        "outputId": "7c440c4f-d628-4f9a-f9c7-3a83c677e542"
      },
      "source": [
        "model.load_weights('pre_trained_glove_model.h5')\n",
        "model.evaluate(x_test, y_test)"
      ],
      "execution_count": null,
      "outputs": [
        {
          "output_type": "stream",
          "text": [
            "782/782 [==============================] - 2s 3ms/step - loss: 0.7657 - acc: 0.5491\n"
          ],
          "name": "stdout"
        },
        {
          "output_type": "execute_result",
          "data": {
            "text/plain": [
              "[0.7656670808792114, 0.5491200089454651]"
            ]
          },
          "metadata": {
            "tags": []
          },
          "execution_count": 22
        }
      ]
    },
    {
      "cell_type": "markdown",
      "metadata": {
        "id": "bqm3PA7WGO9U"
      },
      "source": [
        "validation accuracy is 54%"
      ]
    },
    {
      "cell_type": "markdown",
      "metadata": {
        "id": "UY6aTAX5HBVg"
      },
      "source": [
        "Validation accuracy from pretrained word embedding is 56%, while accuracy using an embedding layer is 54%. we got a slightly higher accuracy from pretrained word embedding. "
      ]
    },
    {
      "cell_type": "markdown",
      "metadata": {
        "id": "m8dPwnEXH5zS"
      },
      "source": [
        ""
      ]
    }
  ]
}