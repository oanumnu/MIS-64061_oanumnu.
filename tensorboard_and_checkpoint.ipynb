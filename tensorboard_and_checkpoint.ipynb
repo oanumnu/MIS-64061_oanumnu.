{
  "nbformat": 4,
  "nbformat_minor": 0,
  "metadata": {
    "colab": {
      "name": "tensorboard and checkpoint.ipynb",
      "provenance": [],
      "collapsed_sections": [],
      "authorship_tag": "ABX9TyN1z03R/FW8hLoOmxoyILI1",
      "include_colab_link": true
    },
    "kernelspec": {
      "name": "python3",
      "display_name": "Python 3"
    },
    "language_info": {
      "name": "python"
    }
  },
  "cells": [
    {
      "cell_type": "markdown",
      "metadata": {
        "id": "view-in-github",
        "colab_type": "text"
      },
      "source": [
        "<a href=\"https://colab.research.google.com/github/oanumnu/MIS-64061_oanumnu./blob/main/tensorboard_and_checkpoint.ipynb\" target=\"_parent\"><img src=\"https://colab.research.google.com/assets/colab-badge.svg\" alt=\"Open In Colab\"/></a>"
      ]
    },
    {
      "cell_type": "code",
      "metadata": {
        "id": "LGL3BjFL1ZwD"
      },
      "source": [
        "import tensorflow as tf\n",
        "from tensorflow import keras\n",
        "import matplotlib.pyplot as plt\n",
        "%matplotlib inline\n",
        "import numpy as np\n",
        "from keras.models import Sequential\n",
        "from keras.layers import Dense\n",
        "from keras.callbacks import ModelCheckpoint\n",
        "import matplotlib.pyplot as plt"
      ],
      "execution_count": 65,
      "outputs": []
    },
    {
      "cell_type": "code",
      "metadata": {
        "colab": {
          "base_uri": "https://localhost:8080/",
          "height": 35
        },
        "id": "nC7eG5-PgmPy",
        "outputId": "0c0b133e-e466-4fa7-8814-f62fd52e9a76"
      },
      "source": [
        "import keras\n",
        "keras.__version__"
      ],
      "execution_count": 66,
      "outputs": [
        {
          "output_type": "execute_result",
          "data": {
            "application/vnd.google.colaboratory.intrinsic+json": {
              "type": "string"
            },
            "text/plain": [
              "'2.4.3'"
            ]
          },
          "metadata": {
            "tags": []
          },
          "execution_count": 66
        }
      ]
    },
    {
      "cell_type": "code",
      "metadata": {
        "colab": {
          "base_uri": "https://localhost:8080/"
        },
        "id": "3velNlMp1hPb",
        "outputId": "322fed47-fe3d-4a8a-f7c1-7e84e592ecad"
      },
      "source": [
        "from keras.datasets import imdb\n",
        "\n",
        "(train_data, train_labels), (test_data, test_labels) = imdb.load_data(num_words=10000)\n",
        "\n"
      ],
      "execution_count": 67,
      "outputs": [
        {
          "output_type": "stream",
          "text": [
            "<string>:6: VisibleDeprecationWarning: Creating an ndarray from ragged nested sequences (which is a list-or-tuple of lists-or-tuples-or ndarrays with different lengths or shapes) is deprecated. If you meant to do this, you must specify 'dtype=object' when creating the ndarray\n",
            "/usr/local/lib/python3.7/dist-packages/tensorflow/python/keras/datasets/imdb.py:159: VisibleDeprecationWarning: Creating an ndarray from ragged nested sequences (which is a list-or-tuple of lists-or-tuples-or ndarrays with different lengths or shapes) is deprecated. If you meant to do this, you must specify 'dtype=object' when creating the ndarray\n",
            "  x_train, y_train = np.array(xs[:idx]), np.array(labels[:idx])\n",
            "/usr/local/lib/python3.7/dist-packages/tensorflow/python/keras/datasets/imdb.py:160: VisibleDeprecationWarning: Creating an ndarray from ragged nested sequences (which is a list-or-tuple of lists-or-tuples-or ndarrays with different lengths or shapes) is deprecated. If you meant to do this, you must specify 'dtype=object' when creating the ndarray\n",
            "  x_test, y_test = np.array(xs[idx:]), np.array(labels[idx:])\n"
          ],
          "name": "stderr"
        }
      ]
    },
    {
      "cell_type": "code",
      "metadata": {
        "colab": {
          "base_uri": "https://localhost:8080/"
        },
        "id": "a7hLyZMydcGE",
        "outputId": "d6f15e4e-243c-4fcf-91ba-e438df2aa6d5"
      },
      "source": [
        "max([max(sequence) for sequence in train_data])"
      ],
      "execution_count": 68,
      "outputs": [
        {
          "output_type": "execute_result",
          "data": {
            "text/plain": [
              "9999"
            ]
          },
          "metadata": {
            "tags": []
          },
          "execution_count": 68
        }
      ]
    },
    {
      "cell_type": "code",
      "metadata": {
        "id": "qemD2c3kciv3"
      },
      "source": [
        "import numpy as np\n",
        "\n",
        "def vectorize_sequences(sequences, dimension=10000):\n",
        "    # Create an all-zero matrix of shape (len(sequences), dimension)\n",
        "    results = np.zeros((len(sequences), dimension))\n",
        "    for i, sequence in enumerate(sequences):\n",
        "        results[i, sequence] = 1.  # set specific indices of results[i] to 1s\n",
        "    return results\n",
        "\n",
        "# Our vectorized training data\n",
        "x_train = vectorize_sequences(train_data)\n",
        "# Our vectorized test data\n",
        "x_test = vectorize_sequences(test_data)"
      ],
      "execution_count": 70,
      "outputs": []
    },
    {
      "cell_type": "code",
      "metadata": {
        "colab": {
          "base_uri": "https://localhost:8080/"
        },
        "id": "P0SohNFm2HBA",
        "outputId": "49dbcd94-0aa4-40e1-dbae-f7f72c4f55e4"
      },
      "source": [
        "x_train[0]\n"
      ],
      "execution_count": 71,
      "outputs": [
        {
          "output_type": "execute_result",
          "data": {
            "text/plain": [
              "array([0., 1., 1., ..., 0., 0., 0.])"
            ]
          },
          "metadata": {
            "tags": []
          },
          "execution_count": 71
        }
      ]
    },
    {
      "cell_type": "code",
      "metadata": {
        "id": "59_3S-CDaRDD"
      },
      "source": [
        "# Our vectorized labels\n",
        "y_train = np.asarray(train_labels).astype('float32')\n",
        "y_test = np.asarray(test_labels).astype('float32')"
      ],
      "execution_count": 72,
      "outputs": []
    },
    {
      "cell_type": "markdown",
      "metadata": {
        "id": "yfI0TS4mMJo7"
      },
      "source": [
        "run the original model implementing tensorboard"
      ]
    },
    {
      "cell_type": "code",
      "metadata": {
        "colab": {
          "base_uri": "https://localhost:8080/"
        },
        "id": "9R_N1nNj4JG8",
        "outputId": "79f4bdd9-cb4f-4aca-ee4c-2bed114d534a"
      },
      "source": [
        "from keras import models\n",
        "from keras import layers\n",
        "\n",
        "model = models.Sequential()\n",
        "model.add(layers.Dense(16, activation='relu', input_shape=(10000,)))\n",
        "model.add(layers.Dense(16, activation='relu'))\n",
        "model.add(layers.Dense(1, activation='sigmoid'))\n",
        "tb_callback = tf.keras.callbacks.TensorBoard(log_dir=\"C:/AdvML/log\", histogram_freq=1)\n",
        "model.compile(optimizer='rmsprop',\n",
        "              loss='binary_crossentropy',\n",
        "              metrics=['accuracy'])\n",
        "x_val = x_train[:10000]\n",
        "partial_x_train = x_train[10000:]\n",
        "\n",
        "y_val = y_train[:10000]\n",
        "partial_y_train = y_train[10000:]\n",
        "history = model.fit(partial_x_train,\n",
        "                    partial_y_train,\n",
        "                    epochs=20,\n",
        "                    batch_size=512,\n",
        "                    validation_data=(x_val, y_val),\n",
        "                    callbacks=[tb_callback])\n"
      ],
      "execution_count": 74,
      "outputs": [
        {
          "output_type": "stream",
          "text": [
            "Epoch 1/20\n",
            "30/30 [==============================] - 2s 54ms/step - loss: 0.6393 - accuracy: 0.6158 - val_loss: 0.4855 - val_accuracy: 0.7792\n",
            "Epoch 2/20\n",
            "30/30 [==============================] - 1s 34ms/step - loss: 0.3988 - accuracy: 0.8777 - val_loss: 0.3379 - val_accuracy: 0.8817\n",
            "Epoch 3/20\n",
            "30/30 [==============================] - 1s 34ms/step - loss: 0.2632 - accuracy: 0.9197 - val_loss: 0.3071 - val_accuracy: 0.8758\n",
            "Epoch 4/20\n",
            "30/30 [==============================] - 1s 35ms/step - loss: 0.1980 - accuracy: 0.9406 - val_loss: 0.2908 - val_accuracy: 0.8814\n",
            "Epoch 5/20\n",
            "30/30 [==============================] - 1s 34ms/step - loss: 0.1591 - accuracy: 0.9505 - val_loss: 0.2812 - val_accuracy: 0.8881\n",
            "Epoch 6/20\n",
            "30/30 [==============================] - 1s 36ms/step - loss: 0.1231 - accuracy: 0.9656 - val_loss: 0.2964 - val_accuracy: 0.8844\n",
            "Epoch 7/20\n",
            "30/30 [==============================] - 1s 35ms/step - loss: 0.0986 - accuracy: 0.9747 - val_loss: 0.3002 - val_accuracy: 0.8853\n",
            "Epoch 8/20\n",
            "30/30 [==============================] - 1s 35ms/step - loss: 0.0814 - accuracy: 0.9803 - val_loss: 0.3524 - val_accuracy: 0.8723\n",
            "Epoch 9/20\n",
            "30/30 [==============================] - 1s 35ms/step - loss: 0.0698 - accuracy: 0.9819 - val_loss: 0.3408 - val_accuracy: 0.8788\n",
            "Epoch 10/20\n",
            "30/30 [==============================] - 1s 35ms/step - loss: 0.0555 - accuracy: 0.9861 - val_loss: 0.3671 - val_accuracy: 0.8797\n",
            "Epoch 11/20\n",
            "30/30 [==============================] - 1s 34ms/step - loss: 0.0449 - accuracy: 0.9916 - val_loss: 0.3948 - val_accuracy: 0.8783\n",
            "Epoch 12/20\n",
            "30/30 [==============================] - 1s 35ms/step - loss: 0.0317 - accuracy: 0.9949 - val_loss: 0.5017 - val_accuracy: 0.8645\n",
            "Epoch 13/20\n",
            "30/30 [==============================] - 1s 36ms/step - loss: 0.0264 - accuracy: 0.9957 - val_loss: 0.4803 - val_accuracy: 0.8727\n",
            "Epoch 14/20\n",
            "30/30 [==============================] - 1s 34ms/step - loss: 0.0217 - accuracy: 0.9967 - val_loss: 0.5058 - val_accuracy: 0.8642\n",
            "Epoch 15/20\n",
            "30/30 [==============================] - 1s 36ms/step - loss: 0.0186 - accuracy: 0.9971 - val_loss: 0.5146 - val_accuracy: 0.8690\n",
            "Epoch 16/20\n",
            "30/30 [==============================] - 1s 35ms/step - loss: 0.0102 - accuracy: 0.9992 - val_loss: 0.5441 - val_accuracy: 0.8707\n",
            "Epoch 17/20\n",
            "30/30 [==============================] - 1s 35ms/step - loss: 0.0093 - accuracy: 0.9986 - val_loss: 0.5808 - val_accuracy: 0.8704\n",
            "Epoch 18/20\n",
            "30/30 [==============================] - 1s 34ms/step - loss: 0.0056 - accuracy: 0.9998 - val_loss: 0.6114 - val_accuracy: 0.8699\n",
            "Epoch 19/20\n",
            "30/30 [==============================] - 1s 34ms/step - loss: 0.0041 - accuracy: 0.9997 - val_loss: 0.7758 - val_accuracy: 0.8447\n",
            "Epoch 20/20\n",
            "30/30 [==============================] - 1s 34ms/step - loss: 0.0067 - accuracy: 0.9990 - val_loss: 0.6846 - val_accuracy: 0.8667\n"
          ],
          "name": "stdout"
        }
      ]
    },
    {
      "cell_type": "code",
      "metadata": {
        "colab": {
          "base_uri": "https://localhost:8080/",
          "height": 295
        },
        "id": "iDAeqaPT4gK0",
        "outputId": "372abb3b-b5f1-4d6b-ad5d-a331007097f1"
      },
      "source": [
        "import matplotlib.pyplot as plt\n",
        "loss = history.history['loss']\n",
        "val_loss = history.history['val_loss']\n",
        "epochs = range(1, len(loss) + 1)\n",
        "plt.plot(epochs, loss, 'bo', label='Training loss')\n",
        "plt.plot(epochs, val_loss, 'b', label='Validation loss')\n",
        "plt.title('Training and validation loss')\n",
        "plt.xlabel('Epochs')\n",
        "plt.ylabel('Loss')\n",
        "plt.legend()\n",
        "plt.show()"
      ],
      "execution_count": 75,
      "outputs": [
        {
          "output_type": "display_data",
          "data": {
            "image/png": "[encoded data removed]",
            "text/plain": [
              "<Figure size 432x288 with 1 Axes>"
            ]
          },
          "metadata": {
            "tags": [],
            "needs_background": "light"
          }
        }
      ]
    },
    {
      "cell_type": "markdown",
      "metadata": {
        "id": "ekeyQj4EOKaz"
      },
      "source": [
        "run the original model implementing Checkpoint\n",
        "\n",
        "\n",
        "\n"
      ]
    },
    {
      "cell_type": "code",
      "metadata": {
        "colab": {
          "base_uri": "https://localhost:8080/"
        },
        "id": "xRLIxTqg6IFa",
        "outputId": "9df49a7d-384a-4d6a-90b8-d11754ff6fca"
      },
      "source": [
        "from keras import models\n",
        "from keras import layers\n",
        "\n",
        "model = models.Sequential()\n",
        "model.add(layers.Dense(16, activation='relu', input_shape=(10000,)))\n",
        "model.add(layers.Dense(16, activation='relu'))\n",
        "model.add(layers.Dense(1, activation='sigmoid'))\n",
        "model.compile(optimizer='rmsprop',\n",
        "              loss='binary_crossentropy',\n",
        "              metrics=['accuracy'])\n",
        "# checkpoint\n",
        "filepath=\"weights-improvement-{epoch:02d}-{val_accuracy:.2f}.hdf5\"\n",
        "checkpoint = ModelCheckpoint(filepath, monitor='val_accuracy', verbose=1, save_best_only=True, mode='max')\n",
        "callbacks_list = [checkpoint]\n",
        "x_val = x_train[:10000]\n",
        "partial_x_train = x_train[10000:]\n",
        "\n",
        "y_val = y_train[:10000]\n",
        "partial_y_train = y_train[10000:]\n",
        "history = model.fit(partial_x_train,\n",
        "                    partial_y_train,\n",
        "                    epochs=20,\n",
        "                    batch_size=512,\n",
        "                    validation_data=(x_val, y_val),\n",
        "                    callbacks=callbacks_list)\n",
        "\n",
        "\n"
      ],
      "execution_count": 76,
      "outputs": [
        {
          "output_type": "stream",
          "text": [
            "Epoch 1/20\n",
            "30/30 [==============================] - 2s 46ms/step - loss: 0.5931 - accuracy: 0.7005 - val_loss: 0.3891 - val_accuracy: 0.8710\n",
            "\n",
            "Epoch 00001: val_accuracy improved from -inf to 0.87100, saving model to weights-improvement-01-0.87.hdf5\n",
            "Epoch 2/20\n",
            "30/30 [==============================] - 1s 35ms/step - loss: 0.3280 - accuracy: 0.8995 - val_loss: 0.3136 - val_accuracy: 0.8809\n",
            "\n",
            "Epoch 00002: val_accuracy improved from 0.87100 to 0.88090, saving model to weights-improvement-02-0.88.hdf5\n",
            "Epoch 3/20\n",
            "30/30 [==============================] - 1s 36ms/step - loss: 0.2385 - accuracy: 0.9266 - val_loss: 0.2866 - val_accuracy: 0.8855\n",
            "\n",
            "Epoch 00003: val_accuracy improved from 0.88090 to 0.88550, saving model to weights-improvement-03-0.89.hdf5\n",
            "Epoch 4/20\n",
            "30/30 [==============================] - 1s 35ms/step - loss: 0.1824 - accuracy: 0.9433 - val_loss: 0.2868 - val_accuracy: 0.8845\n",
            "\n",
            "Epoch 00004: val_accuracy did not improve from 0.88550\n",
            "Epoch 5/20\n",
            "30/30 [==============================] - 1s 35ms/step - loss: 0.1493 - accuracy: 0.9559 - val_loss: 0.2768 - val_accuracy: 0.8888\n",
            "\n",
            "Epoch 00005: val_accuracy improved from 0.88550 to 0.88880, saving model to weights-improvement-05-0.89.hdf5\n",
            "Epoch 6/20\n",
            "30/30 [==============================] - 1s 35ms/step - loss: 0.1219 - accuracy: 0.9630 - val_loss: 0.3217 - val_accuracy: 0.8744\n",
            "\n",
            "Epoch 00006: val_accuracy did not improve from 0.88880\n",
            "Epoch 7/20\n",
            "30/30 [==============================] - 1s 35ms/step - loss: 0.1022 - accuracy: 0.9711 - val_loss: 0.3028 - val_accuracy: 0.8847\n",
            "\n",
            "Epoch 00007: val_accuracy did not improve from 0.88880\n",
            "Epoch 8/20\n",
            "30/30 [==============================] - 1s 34ms/step - loss: 0.0855 - accuracy: 0.9768 - val_loss: 0.3224 - val_accuracy: 0.8801\n",
            "\n",
            "Epoch 00008: val_accuracy did not improve from 0.88880\n",
            "Epoch 9/20\n",
            "30/30 [==============================] - 1s 35ms/step - loss: 0.0684 - accuracy: 0.9833 - val_loss: 0.3384 - val_accuracy: 0.8812\n",
            "\n",
            "Epoch 00009: val_accuracy did not improve from 0.88880\n",
            "Epoch 10/20\n",
            "30/30 [==============================] - 1s 35ms/step - loss: 0.0556 - accuracy: 0.9876 - val_loss: 0.3617 - val_accuracy: 0.8801\n",
            "\n",
            "Epoch 00010: val_accuracy did not improve from 0.88880\n",
            "Epoch 11/20\n",
            "30/30 [==============================] - 1s 34ms/step - loss: 0.0440 - accuracy: 0.9909 - val_loss: 0.3908 - val_accuracy: 0.8764\n",
            "\n",
            "Epoch 00011: val_accuracy did not improve from 0.88880\n",
            "Epoch 12/20\n",
            "30/30 [==============================] - 1s 36ms/step - loss: 0.0357 - accuracy: 0.9933 - val_loss: 0.4152 - val_accuracy: 0.8740\n",
            "\n",
            "Epoch 00012: val_accuracy did not improve from 0.88880\n",
            "Epoch 13/20\n",
            "30/30 [==============================] - 1s 35ms/step - loss: 0.0298 - accuracy: 0.9951 - val_loss: 0.4398 - val_accuracy: 0.8727\n",
            "\n",
            "Epoch 00013: val_accuracy did not improve from 0.88880\n",
            "Epoch 14/20\n",
            "30/30 [==============================] - 1s 34ms/step - loss: 0.0219 - accuracy: 0.9973 - val_loss: 0.4621 - val_accuracy: 0.8737\n",
            "\n",
            "Epoch 00014: val_accuracy did not improve from 0.88880\n",
            "Epoch 15/20\n",
            "30/30 [==============================] - 1s 35ms/step - loss: 0.0210 - accuracy: 0.9969 - val_loss: 0.5033 - val_accuracy: 0.8684\n",
            "\n",
            "Epoch 00015: val_accuracy did not improve from 0.88880\n",
            "Epoch 16/20\n",
            "30/30 [==============================] - 1s 35ms/step - loss: 0.0155 - accuracy: 0.9982 - val_loss: 0.5306 - val_accuracy: 0.8674\n",
            "\n",
            "Epoch 00016: val_accuracy did not improve from 0.88880\n",
            "Epoch 17/20\n",
            "30/30 [==============================] - 1s 36ms/step - loss: 0.0123 - accuracy: 0.9989 - val_loss: 0.5646 - val_accuracy: 0.8650\n",
            "\n",
            "Epoch 00017: val_accuracy did not improve from 0.88880\n",
            "Epoch 18/20\n",
            "30/30 [==============================] - 1s 35ms/step - loss: 0.0117 - accuracy: 0.9983 - val_loss: 0.5841 - val_accuracy: 0.8682\n",
            "\n",
            "Epoch 00018: val_accuracy did not improve from 0.88880\n",
            "Epoch 19/20\n",
            "30/30 [==============================] - 1s 35ms/step - loss: 0.0076 - accuracy: 0.9993 - val_loss: 0.6231 - val_accuracy: 0.8677\n",
            "\n",
            "Epoch 00019: val_accuracy did not improve from 0.88880\n",
            "Epoch 20/20\n",
            "30/30 [==============================] - 1s 35ms/step - loss: 0.0059 - accuracy: 0.9997 - val_loss: 0.6345 - val_accuracy: 0.8675\n",
            "\n",
            "Epoch 00020: val_accuracy did not improve from 0.88880\n"
          ],
          "name": "stdout"
        }
      ]
    },
    {
      "cell_type": "code",
      "metadata": {
        "colab": {
          "base_uri": "https://localhost:8080/",
          "height": 295
        },
        "id": "gpKWX9itR1Zi",
        "outputId": "488c0bf9-856a-43f7-eb4b-e4a2e80cd65e"
      },
      "source": [
        "import matplotlib.pyplot as plt\n",
        "loss = history.history['loss']\n",
        "val_loss = history.history['val_loss']\n",
        "epochs = range(1, len(loss) + 1)\n",
        "plt.plot(epochs, loss, 'bo', label='Training loss')\n",
        "plt.plot(epochs, val_loss, 'b', label='Validation loss')\n",
        "plt.title('Training and validation loss')\n",
        "plt.xlabel('Epochs')\n",
        "plt.ylabel('Loss')\n",
        "plt.legend()\n",
        "plt.show()"
      ],
      "execution_count": 77,
      "outputs": [
        {
          "output_type": "display_data",
          "data": {
            "image/png": "[encoded data removed]",
            "text/plain": [
              "<Figure size 432x288 with 1 Axes>"
            ]
          },
          "metadata": {
            "tags": [],
            "needs_background": "light"
          }
        }
      ]
    },
    {
      "cell_type": "markdown",
      "metadata": {
        "id": "KtRVkgz7P28d"
      },
      "source": [
        "With Check point, vaildation accuracy increased form epochs 1,2,3 and 5\n",
        "\n",
        "epoch 1 - accuracy increased from 0.7792 to 0.8710\n",
        "\n",
        "epoch 2 - accuracy increased from 0.8710 to 0.8809\n",
        "\n",
        "epoch 3 - accuracy increased from 0.8758 to 0.8855\n",
        "\n",
        "epoch 5 - accuracy increased from 0.8881 to 0.8888"
      ]
    }
  ]
}